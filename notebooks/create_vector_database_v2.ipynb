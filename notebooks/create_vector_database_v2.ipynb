{
  "nbformat": 4,
  "nbformat_minor": 0,
  "metadata": {
    "colab": {
      "provenance": [],
      "authorship_tag": "ABX9TyPbvJKOIFmqVQcNLH9eXoDj",
      "include_colab_link": true
    },
    "kernelspec": {
      "name": "python3",
      "display_name": "Python 3"
    },
    "language_info": {
      "name": "python"
    }
  },
  "cells": [
    {
      "cell_type": "markdown",
      "metadata": {
        "id": "view-in-github",
        "colab_type": "text"
      },
      "source": [
        "<a href=\"https://colab.research.google.com/github/Diego-Hernandez-Jimenez/RAG_NATO_streamlit/blob/main/notebooks/create_vector_database_v2.ipynb\" target=\"_parent\"><img src=\"https://colab.research.google.com/assets/colab-badge.svg\" alt=\"Open In Colab\"/></a>"
      ]
    },
    {
      "cell_type": "markdown",
      "source": [
        "## Building our vector database: from raw text to embeddings"
      ],
      "metadata": {
        "id": "3U0UMoXE__Bn"
      }
    },
    {
      "cell_type": "code",
      "execution_count": 1,
      "metadata": {
        "colab": {
          "base_uri": "https://localhost:8080/"
        },
        "id": "B4XlJxlHuv-H",
        "outputId": "a8e9e9b9-cd2b-4c7f-a8d6-aebe98e83441"
      },
      "outputs": [
        {
          "output_type": "stream",
          "name": "stdout",
          "text": [
            "Mounted at /content/drive\n"
          ]
        }
      ],
      "source": [
        "from google.colab import drive\n",
        "drive.mount('/content/drive')"
      ]
    },
    {
      "cell_type": "code",
      "source": [
        "%cd '/content/drive/MyDrive/NATO RAG'"
      ],
      "metadata": {
        "colab": {
          "base_uri": "https://localhost:8080/"
        },
        "id": "E_CJJcCTvDHR",
        "outputId": "e25b1381-38ca-4257-991e-23b153c10deb"
      },
      "execution_count": 2,
      "outputs": [
        {
          "output_type": "stream",
          "name": "stdout",
          "text": [
            "/content/drive/MyDrive/NATO RAG\n"
          ]
        }
      ]
    },
    {
      "cell_type": "code",
      "source": [
        "!pip install -qU langchain-community --quiet\n",
        "!pip install -qU langchain-chroma --quiet\n",
        "!pip install -qU langchain-huggingface --quiet # not necessary if we finally use gemini embeddings\n",
        "!pip install -qU langchain-google-genai --quiet\n",
        "!pip install -qU langchain-groq --quiet"
      ],
      "metadata": {
        "colab": {
          "base_uri": "https://localhost:8080/"
        },
        "id": "37tuKmPEvDx-",
        "outputId": "bb2cff1f-e481-41c3-8c80-c5f1857a3695"
      },
      "execution_count": 3,
      "outputs": [
        {
          "output_type": "stream",
          "name": "stdout",
          "text": [
            "\u001b[2K   \u001b[90m━━━━━━━━━━━━━━━━━━━━━━━━━━━━━━━━━━━━━━━━\u001b[0m \u001b[32m2.5/2.5 MB\u001b[0m \u001b[31m31.1 MB/s\u001b[0m eta \u001b[36m0:00:00\u001b[0m\n",
            "\u001b[2K   \u001b[90m━━━━━━━━━━━━━━━━━━━━━━━━━━━━━━━━━━━━━━━━\u001b[0m \u001b[32m50.9/50.9 kB\u001b[0m \u001b[31m3.9 MB/s\u001b[0m eta \u001b[36m0:00:00\u001b[0m\n",
            "\u001b[2K     \u001b[90m━━━━━━━━━━━━━━━━━━━━━━━━━━━━━━━━━━━━━━━━\u001b[0m \u001b[32m67.3/67.3 kB\u001b[0m \u001b[31m3.2 MB/s\u001b[0m eta \u001b[36m0:00:00\u001b[0m\n",
            "\u001b[?25h  Installing build dependencies ... \u001b[?25l\u001b[?25hdone\n",
            "  Getting requirements to build wheel ... \u001b[?25l\u001b[?25hdone\n",
            "  Preparing metadata (pyproject.toml) ... \u001b[?25l\u001b[?25hdone\n",
            "\u001b[2K   \u001b[90m━━━━━━━━━━━━━━━━━━━━━━━━━━━━━━━━━━━━━━━━\u001b[0m \u001b[32m611.1/611.1 kB\u001b[0m \u001b[31m13.9 MB/s\u001b[0m eta \u001b[36m0:00:00\u001b[0m\n",
            "\u001b[2K   \u001b[90m━━━━━━━━━━━━━━━━━━━━━━━━━━━━━━━━━━━━━━━━\u001b[0m \u001b[32m2.4/2.4 MB\u001b[0m \u001b[31m66.3 MB/s\u001b[0m eta \u001b[36m0:00:00\u001b[0m\n",
            "\u001b[2K   \u001b[90m━━━━━━━━━━━━━━━━━━━━━━━━━━━━━━━━━━━━━━━━\u001b[0m \u001b[32m278.6/278.6 kB\u001b[0m \u001b[31m17.1 MB/s\u001b[0m eta \u001b[36m0:00:00\u001b[0m\n",
            "\u001b[2K   \u001b[90m━━━━━━━━━━━━━━━━━━━━━━━━━━━━━━━━━━━━━━━━\u001b[0m \u001b[32m94.8/94.8 kB\u001b[0m \u001b[31m6.2 MB/s\u001b[0m eta \u001b[36m0:00:00\u001b[0m\n",
            "\u001b[2K   \u001b[90m━━━━━━━━━━━━━━━━━━━━━━━━━━━━━━━━━━━━━━━━\u001b[0m \u001b[32m2.0/2.0 MB\u001b[0m \u001b[31m70.5 MB/s\u001b[0m eta \u001b[36m0:00:00\u001b[0m\n",
            "\u001b[2K   \u001b[90m━━━━━━━━━━━━━━━━━━━━━━━━━━━━━━━━━━━━━━━━\u001b[0m \u001b[32m101.6/101.6 kB\u001b[0m \u001b[31m7.9 MB/s\u001b[0m eta \u001b[36m0:00:00\u001b[0m\n",
            "\u001b[2K   \u001b[90m━━━━━━━━━━━━━━━━━━━━━━━━━━━━━━━━━━━━━━━━\u001b[0m \u001b[32m13.3/13.3 MB\u001b[0m \u001b[31m109.3 MB/s\u001b[0m eta \u001b[36m0:00:00\u001b[0m\n",
            "\u001b[2K   \u001b[90m━━━━━━━━━━━━━━━━━━━━━━━━━━━━━━━━━━━━━━━━\u001b[0m \u001b[32m55.9/55.9 kB\u001b[0m \u001b[31m3.8 MB/s\u001b[0m eta \u001b[36m0:00:00\u001b[0m\n",
            "\u001b[2K   \u001b[90m━━━━━━━━━━━━━━━━━━━━━━━━━━━━━━━━━━━━━━━━\u001b[0m \u001b[32m177.4/177.4 kB\u001b[0m \u001b[31m12.7 MB/s\u001b[0m eta \u001b[36m0:00:00\u001b[0m\n",
            "\u001b[2K   \u001b[90m━━━━━━━━━━━━━━━━━━━━━━━━━━━━━━━━━━━━━━━━\u001b[0m \u001b[32m65.0/65.0 kB\u001b[0m \u001b[31m3.7 MB/s\u001b[0m eta \u001b[36m0:00:00\u001b[0m\n",
            "\u001b[2K   \u001b[90m━━━━━━━━━━━━━━━━━━━━━━━━━━━━━━━━━━━━━━━━\u001b[0m \u001b[32m118.7/118.7 kB\u001b[0m \u001b[31m9.2 MB/s\u001b[0m eta \u001b[36m0:00:00\u001b[0m\n",
            "\u001b[2K   \u001b[90m━━━━━━━━━━━━━━━━━━━━━━━━━━━━━━━━━━━━━━━━\u001b[0m \u001b[32m74.7/74.7 kB\u001b[0m \u001b[31m5.4 MB/s\u001b[0m eta \u001b[36m0:00:00\u001b[0m\n",
            "\u001b[2K   \u001b[90m━━━━━━━━━━━━━━━━━━━━━━━━━━━━━━━━━━━━━━━━\u001b[0m \u001b[32m62.3/62.3 kB\u001b[0m \u001b[31m4.6 MB/s\u001b[0m eta \u001b[36m0:00:00\u001b[0m\n",
            "\u001b[2K   \u001b[90m━━━━━━━━━━━━━━━━━━━━━━━━━━━━━━━━━━━━━━━━\u001b[0m \u001b[32m459.8/459.8 kB\u001b[0m \u001b[31m26.8 MB/s\u001b[0m eta \u001b[36m0:00:00\u001b[0m\n",
            "\u001b[2K   \u001b[90m━━━━━━━━━━━━━━━━━━━━━━━━━━━━━━━━━━━━━━━━\u001b[0m \u001b[32m319.7/319.7 kB\u001b[0m \u001b[31m21.5 MB/s\u001b[0m eta \u001b[36m0:00:00\u001b[0m\n",
            "\u001b[2K   \u001b[90m━━━━━━━━━━━━━━━━━━━━━━━━━━━━━━━━━━━━━━━━\u001b[0m \u001b[32m71.5/71.5 kB\u001b[0m \u001b[31m5.1 MB/s\u001b[0m eta \u001b[36m0:00:00\u001b[0m\n",
            "\u001b[2K   \u001b[90m━━━━━━━━━━━━━━━━━━━━━━━━━━━━━━━━━━━━━━━━\u001b[0m \u001b[32m4.0/4.0 MB\u001b[0m \u001b[31m86.7 MB/s\u001b[0m eta \u001b[36m0:00:00\u001b[0m\n",
            "\u001b[2K   \u001b[90m━━━━━━━━━━━━━━━━━━━━━━━━━━━━━━━━━━━━━━━━\u001b[0m \u001b[32m452.6/452.6 kB\u001b[0m \u001b[31m29.0 MB/s\u001b[0m eta \u001b[36m0:00:00\u001b[0m\n",
            "\u001b[2K   \u001b[90m━━━━━━━━━━━━━━━━━━━━━━━━━━━━━━━━━━━━━━━━\u001b[0m \u001b[32m46.0/46.0 kB\u001b[0m \u001b[31m2.8 MB/s\u001b[0m eta \u001b[36m0:00:00\u001b[0m\n",
            "\u001b[2K   \u001b[90m━━━━━━━━━━━━━━━━━━━━━━━━━━━━━━━━━━━━━━━━\u001b[0m \u001b[32m86.8/86.8 kB\u001b[0m \u001b[31m6.0 MB/s\u001b[0m eta \u001b[36m0:00:00\u001b[0m\n",
            "\u001b[?25h  Building wheel for pypika (pyproject.toml) ... \u001b[?25l\u001b[?25hdone\n",
            "\u001b[2K   \u001b[90m━━━━━━━━━━━━━━━━━━━━━━━━━━━━━━━━━━━━━━━━\u001b[0m \u001b[32m363.4/363.4 MB\u001b[0m \u001b[31m4.5 MB/s\u001b[0m eta \u001b[36m0:00:00\u001b[0m\n",
            "\u001b[2K   \u001b[90m━━━━━━━━━━━━━━━━━━━━━━━━━━━━━━━━━━━━━━━━\u001b[0m \u001b[32m13.8/13.8 MB\u001b[0m \u001b[31m110.7 MB/s\u001b[0m eta \u001b[36m0:00:00\u001b[0m\n",
            "\u001b[2K   \u001b[90m━━━━━━━━━━━━━━━━━━━━━━━━━━━━━━━━━━━━━━━━\u001b[0m \u001b[32m24.6/24.6 MB\u001b[0m \u001b[31m83.0 MB/s\u001b[0m eta \u001b[36m0:00:00\u001b[0m\n",
            "\u001b[2K   \u001b[90m━━━━━━━━━━━━━━━━━━━━━━━━━━━━━━━━━━━━━━━━\u001b[0m \u001b[32m883.7/883.7 kB\u001b[0m \u001b[31m45.1 MB/s\u001b[0m eta \u001b[36m0:00:00\u001b[0m\n",
            "\u001b[2K   \u001b[90m━━━━━━━━━━━━━━━━━━━━━━━━━━━━━━━━━━━━━━━━\u001b[0m \u001b[32m664.8/664.8 MB\u001b[0m \u001b[31m2.0 MB/s\u001b[0m eta \u001b[36m0:00:00\u001b[0m\n",
            "\u001b[2K   \u001b[90m━━━━━━━━━━━━━━━━━━━━━━━━━━━━━━━━━━━━━━━━\u001b[0m \u001b[32m211.5/211.5 MB\u001b[0m \u001b[31m5.3 MB/s\u001b[0m eta \u001b[36m0:00:00\u001b[0m\n",
            "\u001b[2K   \u001b[90m━━━━━━━━━━━━━━━━━━━━━━━━━━━━━━━━━━━━━━━━\u001b[0m \u001b[32m56.3/56.3 MB\u001b[0m \u001b[31m13.5 MB/s\u001b[0m eta \u001b[36m0:00:00\u001b[0m\n",
            "\u001b[2K   \u001b[90m━━━━━━━━━━━━━━━━━━━━━━━━━━━━━━━━━━━━━━━━\u001b[0m \u001b[32m127.9/127.9 MB\u001b[0m \u001b[31m7.3 MB/s\u001b[0m eta \u001b[36m0:00:00\u001b[0m\n",
            "\u001b[2K   \u001b[90m━━━━━━━━━━━━━━━━━━━━━━━━━━━━━━━━━━━━━━━━\u001b[0m \u001b[32m207.5/207.5 MB\u001b[0m \u001b[31m5.7 MB/s\u001b[0m eta \u001b[36m0:00:00\u001b[0m\n",
            "\u001b[2K   \u001b[90m━━━━━━━━━━━━━━━━━━━━━━━━━━━━━━━━━━━━━━━━\u001b[0m \u001b[32m21.1/21.1 MB\u001b[0m \u001b[31m89.5 MB/s\u001b[0m eta \u001b[36m0:00:00\u001b[0m\n",
            "\u001b[2K   \u001b[90m━━━━━━━━━━━━━━━━━━━━━━━━━━━━━━━━━━━━━━━━\u001b[0m \u001b[32m42.0/42.0 kB\u001b[0m \u001b[31m1.4 MB/s\u001b[0m eta \u001b[36m0:00:00\u001b[0m\n",
            "\u001b[2K   \u001b[90m━━━━━━━━━━━━━━━━━━━━━━━━━━━━━━━━━━━━━━━━\u001b[0m \u001b[32m121.9/121.9 kB\u001b[0m \u001b[31m2.6 MB/s\u001b[0m eta \u001b[36m0:00:00\u001b[0m\n",
            "\u001b[?25h"
          ]
        }
      ]
    },
    {
      "cell_type": "code",
      "source": [
        "from google.colab import userdata # to retrieve api keys\n",
        "import os\n",
        "from re import sub as regex_sub\n",
        "from random import randint\n",
        "\n",
        "from langchain_community.document_loaders import TextLoader\n",
        "from langchain_text_splitters import MarkdownHeaderTextSplitter\n",
        "from langchain_chroma import Chroma\n",
        "from langchain_huggingface import HuggingFaceEmbeddings # not necessary if we finally use gemini embeddings\n",
        "from langchain_google_genai import GoogleGenerativeAIEmbeddings\n",
        "from langchain_groq import ChatGroq"
      ],
      "metadata": {
        "id": "TDKm6P_TvDv8"
      },
      "execution_count": 4,
      "outputs": []
    },
    {
      "cell_type": "markdown",
      "source": [
        "## Load the document(s)"
      ],
      "metadata": {
        "id": "1vEQ6DnsxOLx"
      }
    },
    {
      "cell_type": "code",
      "source": [
        "loaded_doc = TextLoader('./alta-handbook_MinerU/auto/edited_alta-handbook.md').load()\n",
        "print(f'{loaded_doc[0].metadata[\"source\"]} has {len(loaded_doc[0].page_content)} characters')\n",
        "print(f'\\n{loaded_doc[0].page_content[:250]}\\n...')"
      ],
      "metadata": {
        "colab": {
          "base_uri": "https://localhost:8080/"
        },
        "id": "9o3QuD2UxRwM",
        "outputId": "124c593a-f324-473d-db0c-fc0c09105533"
      },
      "execution_count": 5,
      "outputs": [
        {
          "output_type": "stream",
          "name": "stdout",
          "text": [
            "./alta-handbook_MinerU/auto/edited_alta-handbook.md has 207941 characters\n",
            "\n",
            "![](images/d106f1972cd1f87845f2df3a06fb6506f5fab195d30a46ac2d0a8b43d0b1fcfa.jpg)  \n",
            "\n",
            "# The NATO Alternative Analysis Handbook  \n",
            "\n",
            "Second Edition – December 2017  \n",
            "\n",
            "The NATO Alternative Analysis Handbook  \n",
            "\n",
            "Second Edition, December 2017  \n",
            "\n",
            "The Alliance \n",
            "...\n"
          ]
        }
      ]
    },
    {
      "cell_type": "markdown",
      "source": [
        "### Preprocessing"
      ],
      "metadata": {
        "id": "KcWt3-q-so24"
      }
    },
    {
      "cell_type": "code",
      "source": [
        "def clean_text(text):\n",
        "    # remove \"blank\" pages\n",
        "    text = regex_sub(r'This page is intentionally left blank.', '', text)\n",
        "    # remove image links and captions, they are not going to be used\n",
        "    text = regex_sub(r' ?\\n?!\\[\\]\\(images/.+\\.jpg\\)  \\nFigure \\d\\d? – [A-z ]+ \\n', '', text)\n",
        "\n",
        "    return text\n",
        "\n",
        "markdown_document = clean_text(loaded_doc[0].page_content)"
      ],
      "metadata": {
        "id": "TGT-VmYcsrRT"
      },
      "execution_count": 6,
      "outputs": []
    },
    {
      "cell_type": "markdown",
      "source": [
        "## Split the document into manageable text chunks"
      ],
      "metadata": {
        "id": "5MOph2wLzD_F"
      }
    },
    {
      "cell_type": "code",
      "source": [
        "# markdown_document = loaded_doc[0].page_content\n",
        "# actually, I think there are only \"#\" headers in text, but it doesn't hurt to add others\n",
        "headers_to_split_on = [\n",
        "    (\"#\", \"Topic 1\"),\n",
        "    (\"##\", \"Topic 2\"),\n",
        "    (\"###\", \"Topic 3\"),\n",
        "]\n",
        "\n",
        "# I keep the headers because the titles add a lot of important semantic content to the chunk\n",
        "markdown_splitter = MarkdownHeaderTextSplitter(headers_to_split_on, strip_headers=False)\n",
        "md_header_splits = markdown_splitter.split_text(markdown_document)[6:] # discard first 6 chunks (cover, index)\n",
        "\n",
        "header_names = []\n",
        "for i in range(len(md_header_splits)):\n",
        "    metadata_content = ''.join(md_header_splits[i].metadata.values())\n",
        "    header_names.append(metadata_content)\n",
        "\n",
        "for i in range(20):\n",
        "    print(f'metadata: {md_header_splits[i].metadata}\\ncontent: {md_header_splits[i].page_content}\\n...')"
      ],
      "metadata": {
        "colab": {
          "base_uri": "https://localhost:8080/"
        },
        "id": "p8H1-EIvxy2w",
        "outputId": "dcbb394f-9b67-4c9b-ba13-a595a5b07ffb"
      },
      "execution_count": 7,
      "outputs": [
        {
          "output_type": "stream",
          "name": "stdout",
          "text": [
            "metadata: {'Topic 1': '1 Alternative Analysis Explained'}\n",
            "content: # 1 Alternative Analysis Explained  \n",
            "Alternative Analysis (AltA) is a capability described as follows:  \n",
            "AltA is the deliberate application of independent, critical thought and alternative perspective to improve decision-making.  \n",
            "The key words in this description are independent, critical thought, and alternative perspective. First, independent refers to being free from influence or control by others in matters of belief or thinking. Second, critical thought – also known as critical thinking – is the intellectually disciplined process of conceptualizing, applying, analysing, synthesizing, and evaluating information. It is necessary for valid reasoning when drawing conclusions about goals, problems, assumptions, concepts, evidence, implications, and consequences. Finally, alternative perspective is the result of looking at a situation, problem, or fact through a different mindset, cultural frame, or value and belief structure.  \n",
            "In other words, AltA is a capability to look at problems in a different way in order to make better-informed decisions. It aims to improve innovation and creativity and to broaden understanding within the staff. To this end, it provides a vehicle to better comprehend the scope of the problem for which staff officers are seeking solutions. Hence, AltA supports them in producing enhanced output in a more efficient manner than relying on unstructured staff meetings or processes. Nevertheless, AltA is intended to supplement rather than duplicate functions performed by staff officers.  \n",
            "AltA comprises of a set of simple techniques that enrich existing processes. They have been taken from industry, intelligence, and academic best practices and are tried-andtested approaches for problem-solving and decision-making. Some techniques such as mind mapping or brainstorming will be familiar to many, others may be less so. The techniques have been specifically chosen as ones that are most useful for NATO.  \n",
            "The AltA capability is aimed at the NATO staff officer; as such, no prior experience or analysis training is necessary. Having said that, experienced analysts will find the techniques a useful complement to their skill set, and the capability is available to non-NATO staff officers.  \n",
            "The AltA capability consists of three main areas: (1) the techniques themselves, (2) education and training in the form of a training course at NATO School Oberammergau, and (3) a community of AltA faclitators. The latter share experiences on NATO’s Transformation Network (TRANSNET) portal under https://portal.transnet.act.nato.int/ Pages/home.aspx (register there for “Operational Analysis, Research and Assessment”).\n",
            "...\n",
            "metadata: {'Topic 1': '2 Motivation for Using AltA'}\n",
            "content: # 2 Motivation for Using AltA\n",
            "...\n",
            "metadata: {'Topic 1': 'Common Problems of Decision-Making Processes'}\n",
            "content: # Common Problems of Decision-Making Processes  \n",
            "AltA ultimately aims to overcome the various problems that staff can face during decision-making processes in international organizations. Commonly experienced problems and how AltA helps addressing them are as follows.  \n",
            "Staff often face complicated tasks. In many instances, not only the answer to a question, but even the question itself and the context surrounding it may be uncertain. This is further aggravated by a lack of specific guidance. Moreover, many staff officers are on a short (three-year) tour of duty, which poses limitations on their ability to become subject-matter experts in the problem. To overcome these challenges, AltA offers techniques that can provide an initial starting point for a task, explore the issues, or generate motivating ideas to start tackling the problem.  \n",
            "Proficient English speakers tend to dominate meetings. International staff consist of members from many different nations with differing language skills. Some staff take longer to process their thoughts into English and can be dominated by those who think and talk quickly without hesitation. AltA addresses this problem by employing techniques that give participants time to gather their thoughts or use visual records to help people remember what was said. Additionally, its methods encourage round-table contributions where everyone gets an opportunity to express their views as well as writing sessions where thoughts are put on paper in silence.  \n",
            "Meetings can be unproductive. The pitfall of long, boring, badly structured, or indecisive meetings without a palpable result is all too common. When employed, the AltA techniques described in this handbook can help to provide structure to a meeting, and some of them also often save time. Likewise, they can produce a tangible, shared outcome that may serve as foundation for follow-up processes.  \n",
            "Decision-making is influenced by biases. This is further explained in the section below.\n",
            "...\n",
            "metadata: {'Topic 1': 'Biases'}\n",
            "content: # Biases  \n",
            "AltA techniques seek to combat biases. A bias is an inclination – either consciously realized or completely unknown to a person – to present or be pre-disposed towards a particular perspective. This is often accompanied by an intentional or unintentional refusal to reflect upon the possible merits of alternative points of view. Such cognitive biases are present in every individual. AltA techniques tackle them by highlighting and evaluating other perspectives, by focussing on the issue instead of the person expressing it, and by managing arguments in a constructive way.  \n",
            "Biases may appear at group and/or organizational level, too. They can become prevalent in large organizations, especially when there is a high pressure to deliver output. Often it is easier just to agree rather than to upset existing group norms or to fight against established organizational procedures. Operations, working groups on exercises, or day-today office life can easily fall foul of such biases. This is particularly common when the same team has worked together for several months or much time and money has been invested in a project. While considering the permanency of social and cultural factors that exist in NATO, the application of AltA techniques present a useful and viable mitigation for common pitfalls due to biases in the decision-making process.  \n",
            "Common cognitive biases are depicted in Table 1.  \n",
            "<html><body><table><tr><td colspan=\"2\"></td></tr><tr><td>Bias</td><td>Description</td></tr><tr><td>Perceptual biases</td><td>Expectations: You tend to perceive what you expect to perceive. pected phenomenon. Resistance: Perceptions resist change even in the face of new evi- dence. feres with accurate perception, even after more and better information</td></tr><tr><td>Biases in estimating probabilities</td><td>becomesavailable. can imagine an event or recall similar instances. response to new information or further analysis. Overconfidence: In translating feelings of certainty into a probability</td></tr><tr><td>Biases in evaluating evidence</td><td>estimate, people are often over confident, especially if they have con- siderable expertise. Consistency: Conclusions drawn from a small body of consistent da- lessconsistentdata. Missing information: It is difficult to judge well the potential impact of missing evidence even if the information gap is known.</td></tr><tr><td>Biases in perceiving causality</td><td>Rationality: Events are seen as part of an orderly, causal pattern. forobservedevents. Attribution:Behaviour of others is attributed to some fixed nature of the person or country while your own behaviour is attributed to the situation in which you find yourselves.</td></tr></table></body></html>\n",
            "...\n",
            "metadata: {'Topic 1': '3 AltA Capability Principles'}\n",
            "content: # 3 AltA Capability Principles  \n",
            "AltA is intended to be flexible and widely applicable. It builds on existing staff and analytical capabilities where they are available instead of introducing a new entity or staff structure. Generally speaking, AltA rests on eight principles:  \n",
            "(1) AltA is a capability. It is a capability consisting of techniques, training and education, and personnel. This capability is adaptable to meet each organization’s unique needs. For example, a strategic command might organize an ad hoc team to analyse an issue of strategic importance to the Alliance. The operational level might establish a standing team to assist in operations planning and assessment. Other organizations meanwhile might desire staff-wide implementation of these analytical skills to support deeper understanding of the topics they examine.  \n",
            "(2) AltA supports problem-solving. It is performed to support a problem owner with creative problem-solving resources rather than to provide a stand-alone solution to a problem. AltA enhances thinking and creativity with a set of practical and mostly easy-to-apply techniques.  \n",
            "(3) AltA can support a wide range of problems at any level of staff. It has broad applicability, from supporting a single staff officer faced with a problem to the complex decisions encountered by a large staff organization. The AltA techniques have been drawn from national defence organizations, industry, and academia and have been widely used. Learning AltA techniques gives a lifelong career skill set.  \n",
            "(4) AltA provides an independent perspective. To be of value to a decisionmaking process, AltA must be free to deliver impartial or “out-of-the-box” thought that is not constrained by traditional hierarchal structures or organizational pressures.  \n",
            "(5) AltA depends on mutual understanding to realize its full benefits. Problem owners must be willing to accept that the AltA process might be controversial. Simultaneously, AltA must respect the supported/supporting nature of the relationship and be sensitive to the potential impact of its product.  \n",
            "(6) AltA is best applied throughout a process. Its early engagement is ideal to present alternative perspectives and insights in order to better inform the supported process.  \n",
            "(7) AltA benefits from formal direction and guidance. Leaders can help by creating an organizational culture that is willing to use AltA to challenge beliefs and perspectives. The intended use of AltA should be tailored to the organization’s needs without constraining independence and flexibility.  \n",
            "(8) AltA complements existing functions within an organization. It is designed to complement and draw from other existing functions (e.g. operational analysis, operations planning), not to replace or duplicate them.  \n",
            "The AltA process consists of four broad phases: initiation, preparation, application, and termination. This chapter provides a step-by-step guide to the AltA process, which is depicted in Figure 1. It offers advice and highlights considerations for the successful application of AltA techniques.  \n",
            "AltA is applicable to any task where it is believed to improve the outcome. For simple applications, e.g. where staff officers apply AltA alone at their desks, the process in Figure 1 can be done quickly. Conversely, its steps should always be followed carefully when conducting a formal AltA workshop with a group of people.\n",
            "...\n",
            "metadata: {'Topic 1': 'Initiation'}\n",
            "content: # Initiation  \n",
            "During this phase, the requirement for AltA is considered, the task better understood, and potential resources identified.  \n",
            "AltA can be initiated in three ways:  \n",
            " a commander or superior directs the use of AltA in a mission or task; the problem owner (i.e. any member of staff) suggests the need for AltA;  an AltA facilitator (someone who is trained in AltA) or any other staff member recognizes the opportunity to apply AltA.  \n",
            "During the initiation phase, it is worth spending time to ensure that the problem, issue, or task can be better defined through discussion with any key stakeholders. The initiation phase also includes a consideration of the resources required (e.g. time, people).\n",
            "...\n",
            "metadata: {'Topic 1': 'Preparation'}\n",
            "content: # Preparation  \n",
            "The preparation phase confirms and refines the problem, issue, or task in order to identify and agree on the AltA technique(s) to be applied. The result of the preparation phase may be a formal/informal statement of work to be undertaken, with the expected outcome stated and resources allocated.\n",
            "...\n",
            "metadata: {'Topic 1': 'What is the expected outcome?'}\n",
            "content: # What is the expected outcome?  \n",
            "Some AltA techniques are more suited for particular objectives and outcomes of the task or problem at hand. The problem owner must decide what the expected outcome from the application of AltA is, which may include the following.  \n",
            "Problem structured and defined. A wider view of a problem or a common understanding among a group or community about a problem is required. New material created and potential solutions identified. There may be a requirement to take a look at a problem or issue from a different perspective in order to create new material. There may be a requirement to invigorate new ideas where past ideas have failed, too. Or there may be a requirement to identify more than one option or solution to a problem.  \n",
            " Existing material reviewed. Material already developed may require fresh perspectives or assumptions; a plan or a proposed way ahead needs to be stressed and tested.  \n",
            "Evaluation of options. When faced with different options – ensuring all options have been given equal consideration – a consensus may be required. There could also be a requirement to improve understanding of all possible future implications of a decision or chosen course of action.\n",
            "...\n",
            "metadata: {'Topic 1': 'Who will do the work?'}\n",
            "content: # Who will do the work?  \n",
            "AltA can be applied in three ways, as shown in Figure 2. It can be applied by an individual working at their desk, informally in a team meeting, or at a formal workshop with the aid of an AltA facilitator.  \n",
            "If AltA is to be applied in a team meeting or a workshop, there are some additional considerations.  \n",
            " Personnel requirements. While most AltA techniques are highly flexible and can be adapted to many situations and numbers of participants, some techniques work better in smaller groups. The table of techniques (at the beginning of Part 2 of this handbook) categorizes each one by whether they can be performed by an individual, a small group of two to ten people, or a larger group of more than ten.  \n",
            "Typically, the greater the number of people participating, the greater the facilitation effort required.  \n",
            " Problem area subject-matter expertise. Participants in AltA do not always have to be experts in the problem area, although some domain knowledge can be helpful and is sometimes required. Too little subject knowledge among participants means that critical issues could be missed. Conversely, a group composed of subject-matter experts may not be able to see the problem from a fresh perspective. If the AltA facilitator has deep knowledge of the problem area, there is a danger they will impose their views and bias the group. Therefore, using an independent AltA facilitator is often helpful.\n",
            "...\n",
            "metadata: {'Topic 1': 'Which AltA technique to apply?'}\n",
            "content: # Which AltA technique to apply?  \n",
            "The appropriate choice of technique depends on the particular problem to be solved and the expected outcome. Part 2 of this handbook provides a detailed step-by-step guide for each technique, including worked examples of the techniques in action. Experienced AltA facilitators will additionally develop skills to combine and sequence techniques.  \n",
            "Choosing a technique is often the most important step in the AltA process. Different techniques are better suited to certain expected outcomes of AltA, whether that is structuring a problem, creating new ideas, or making a decision.  \n",
            "Practical concerns for choosing a technique include the following.  \n",
            "AltA experience. Some techniques such as mind mapping or starbursting can be performed with very little experience, whereas specialized techniques such as alternative futures analysis require more training and experience. In practice, all AltA techniques are designed to be used with minimal training. However, an inexperienced AltA facilitator may wish to start with an easier technique before moving onto the more difficult ones. As an aid, the table of techniques on page 18 categorizes them by their ease of application.  \n",
            "Time required. Part of the ease of application depends on the amount of time the techniques require when applied and the amount of time available. These times vary based on the size of the group conducting the analysis, the problem’s complexity, the technique’s difficulty, and the thoroughness of the work. With practice, most of the techniques can be effectively conducted within an hour, yet some are much quicker if less time is available. The AltA facilitator must judge how much time to set for a technique.  \n",
            "Facilities available. Some techniques can be done on paper or a small flip chart, but others require large whiteboards and lots of space to write down results, which are not always at hand. See Part 3 for more practical information concerning facilitation and facilities.\n",
            "...\n",
            "metadata: {'Topic 1': 'Ten Questions and Five Ps of AltA Preparation'}\n",
            "content: # Ten Questions and Five Ps of AltA Preparation  \n",
            "Here are ten questions that can help with the preparation phase of AltA. By answering them, a clearer picture of what is required will emerge.  \n",
            "1) What is the overall topic under discussion?\n",
            "2) What questions are you trying to answer?\n",
            "3) Are you doing one of the following:  \n",
            "structuring or defining a problem;\n",
            "creating new ideas (e.g. innovative solutions);\n",
            "reviewing a document;\n",
            "evaluating different options;\n",
            "something else?\n",
            "4) What are you trying to achieve from the application of AltA? What would an ideal outcome look like?\n",
            "5) How will the outcome of the AltA session be used?\n",
            "6) What related work has been done so far?\n",
            "7) How many people do you expect to be involved? Will AltA be applied in a workshop setting, a team meeting, or by an individual?\n",
            "8) Will the likely participants in the AltA session be experienced in the subject being discussed? Is experience necessary?\n",
            "9) How much time have you allocated for the AltA process?\n",
            "10) Do you have any concerns (e.g. strong personalities in a workshop, preexisting views, limited time)?  \n",
            "Once these questions (and others) have been answered, the AltA facilitator can prepare for the AltA session using $5~{\\mathsf{P}}\\mathsf{s}^{2}$ .  \n",
            " Purpose: What is the purpose of the AltA meeting?\n",
            " Product: What will be produced at the end of the meeting?\n",
            "· Participants: Who should be invited to participate?\n",
            " Probable issues: What probable issues are likely to occur?\n",
            " Process: Which AltA technique will be used? What are the exact steps required?\n",
            "...\n",
            "metadata: {'Topic 1': 'Output of preparation phase'}\n",
            "content: # Output of preparation phase  \n",
            "The output of the preparation phase is a clear idea for how AltA will be applied. This may be written down in an AltA task agreement. The agreement identifies the parameters for the AltA process to ensure it is clear to all involved during the application phase. Examples of what should be included in the agreement are:  \n",
            "problem/task statement;\n",
            "who is leading the application of AltA;\n",
            "staff resources to be used;\n",
            "additional physical resources required;\n",
            "AltA technique or series of AltA techniques to be applied;\n",
            "timelines;\n",
            "expected outcome.\n",
            "...\n",
            "metadata: {'Topic 1': 'Application'}\n",
            "content: # Application  \n",
            "During this phase, the chosen AltA techniques are applied to the defined problem in order to achieve the desired outcome. The number of employed techniques is only limited by time constraints, limitations in subject-matter expertise, and the participants’ willingness to continue the process. These techniques can range from creative thinking techniques at the beginning to diagnostic techniques at the end. Applying different AltA techniques is often necessary to fully explore a subject.  \n",
            "The application phase should ultimately result in a satisfied set of stakeholders. They should feel that either a solution has been reached or that they have more useful information now on which to base a decision.\n",
            "...\n",
            "metadata: {'Topic 1': 'Termination'}\n",
            "content: # Termination  \n",
            "The process ends when the selected techniques have been executed, the findings written up and presented back to the problem owner, and it appears that the AltA process can add no further value.  \n",
            "Depending on the complexity of the task, the AltA process may identify additional requirements for analysis instead of providing a solution or outcome. In this case, these requirements feed back into the initiation phase of the AltA process.  \n",
            "Feedback resulting from the AltA session, including lessons learned, should be shared with the AltA community to establish best practice.\n",
            "...\n",
            "metadata: {'Topic 1': 'Part 2 AltA Techniques'}\n",
            "content: # Part 2 AltA Techniques  \n",
            "![](images/fe396dd546fe5b9753f9f9a8d9bf7d844238027350fb5f250a3a61c6c387837e.jpg)  \n",
            "This handbook describes a total of 21 techniques, all of which belong into one or more of the following categories:  \n",
            "(1) Structuring techniques. These methods identify and organize facts, problems, and ideas. Specifically, they break down a subject into its component parts by decomposing, visualizing, organizing, and grouping them. In general, structuring techniques are useful to capture complicated ideas, to share them with others, and to act as a framework for follow-on work.\n",
            "(2) Creative techniques. Creative thinking is the ability to see problems or situations from a fresh perspective and to break out of your frame of reference. Thus, creative techniques increase the number of conceived ideas, and they allow new and imaginative thoughts or novel combinations of them to be generated, too. Additionally, they facilitate innovation, enable group synergy (use the group to create something greater than the sum of the parts), and overcome biases and fixed thinking.\n",
            "(3) Diagnostic techniques. They support problem analysis or the development of alternative perspectives by testing hypotheses, examining lines of reasoning, assessing evidence, and evaluating multiple courses of action. These techniques are often used to identify or diagnose potential problems.\n",
            "(4) Challenge techniques. These methods also go by the names contrarian or competitive and come in three different types: self-critique, critique of others, and critique by others. They challenge current thinking and critique existing mental models, beliefs, or conventions by looking at the problem from a different, often opposing, view. As a result, they broaden the range of explanations considered, expose flaws in reasoning, or generate new ideas.  \n",
            "Table 2 lists all the techniques explained in this handbook. It also contains a simple guide to their expected outcomes and their ease of application. Each technique is then described in further detail.  \n",
            "Table 2 – AltA techniques and application  \n",
            "<html><body><table><tr><td>AltA technique</td><td colspan=\"3\">Outcome of applica- tion</td><td colspan=\"3\">Number of partici- pants</td><td colspan=\"3\">Ease of applica- tion</td></tr><tr><td></td><td>Structuring</td><td colspan=\"3\">Reviewing Creating </td><td>Individual</td><td>people 10</td><td> people</td><td>Easy Medium</td><td></td></tr><tr><td></td><td>S</td><td></td><td>R</td><td>Evaluating </td><td></td><td>7. 2</td><td>10 A</td><td>Hard</td><td></td></tr><tr><td colspan=\"10\">Structuring techniques</td></tr><tr><td>Mind mapping</td><td></td><td></td><td></td><td></td><td></td><td></td><td></td><td></td><td></td></tr><tr><td>Concept mapping</td><td></td><td></td><td></td><td></td><td></td><td></td><td></td><td></td><td></td></tr><tr><td>Rich pictures</td><td></td><td></td><td></td><td></td><td></td><td></td><td></td><td></td><td></td></tr><tr><td colspan=\"10\">Creative techniques</td></tr><tr><td>Brainstorming</td><td></td><td></td><td></td><td></td><td></td><td></td><td></td><td></td><td></td></tr><tr><td>Reverse brainstorming Brainwriting</td><td></td><td></td><td></td><td></td><td></td><td></td><td></td><td></td><td></td></tr><tr><td>Starbursting</td><td></td><td></td><td></td><td></td><td></td><td></td><td></td><td></td><td></td></tr><tr><td>Six thinking hats</td><td></td><td></td><td></td><td></td><td></td><td></td><td></td><td></td><td></td></tr><tr><td>Creative combinations</td><td></td><td></td><td></td><td></td><td></td><td></td><td></td><td></td><td></td></tr><tr><td colspan=\"10\">Diagnostic techniques</td></tr><tr><td>SWOT Plusses, minuses,</td><td></td><td></td><td></td><td></td><td></td><td></td><td></td><td></td><td></td></tr><tr><td>interesting</td><td></td><td></td><td></td><td></td><td></td><td></td><td></td><td></td><td></td></tr><tr><td>Five whys Key assumptions</td><td></td><td></td><td></td><td></td><td></td><td></td><td></td><td></td><td></td></tr><tr><td>identification Quality of information</td><td></td><td></td><td></td><td></td><td></td><td></td><td></td><td></td><td></td></tr><tr><td>check</td><td></td><td></td><td></td><td></td><td></td><td></td><td></td><td></td><td></td></tr><tr><td>Outside-in thinking Surrogate adver-</td><td></td><td></td><td></td><td></td><td></td><td></td><td></td><td></td><td></td></tr><tr><td>sary/role play Alternative futures</td><td></td><td></td><td></td><td></td><td></td><td></td><td></td><td></td><td></td></tr><tr><td>Challenge techniques</td><td></td><td></td><td></td><td></td><td></td><td></td><td></td><td></td><td></td></tr><tr><td colspan=\"10\">Devil's advocacy</td></tr><tr><td>Team A/team B</td><td></td><td></td><td></td><td></td><td></td><td></td><td></td><td></td><td></td></tr><tr><td></td><td></td><td></td><td></td><td></td><td></td><td></td><td></td><td></td><td></td></tr><tr><td>Pre-mortem analysis</td><td></td><td></td><td></td><td></td><td></td><td></td><td></td><td></td><td></td></tr><tr><td>What-if analysis</td><td></td><td></td><td></td><td></td><td></td><td></td><td></td><td></td><td></td></tr></table></body></html>\n",
            "...\n",
            "metadata: {'Topic 1': '2 Structuring Techniques'}\n",
            "content: # 2 Structuring Techniques\n",
            "...\n",
            "metadata: {'Topic 1': 'Mind Mapping'}\n",
            "content: # Mind Mapping  \n",
            "(for individual or 2–10 people; easy)  \n",
            "A technique that visually organizes information around a central topic, hence creating a mind map. Such maps consist of a sole concept centred on a page with associated themes, such as images or words, linked to it. These links are commonly established using some structure or organizing scheme. Mind maps therefore literally “map out” ideas by forming relations between them. You can draw them either by hand or using software.\n",
            "...\n",
            "metadata: {'Topic 1': 'What to use it for'}\n",
            "content: # What to use it for  \n",
            "organizing or structuring thoughts capturing a complicated notion in one page exploring new ideas about a topic creating exhaustive checklists for planning\n",
            "...\n",
            "metadata: {'Topic 1': 'Application'}\n",
            "content: # Application  \n",
            "Step 1: Write down key concept. Begin in the centre of a blank piece of paper, whiteboard or computer screen and represent the key concept there with a simple word or image. By starting in the middle, your brain has the freedom to spread out in all directions and to express itself more freely.  \n",
            "Step 2: Identify subthemes and draw relationships. Find subthemes to radiate from the central word or image; these are the branches. Use only one or two words to capture your subtheme onto a branch. Now connect them to the central image. In addition, make your branches curved rather than straight lined. (Straight lines and boxes are boring and the opposite of creative!)  \n",
            "Step 3: Break down subthemes even further. Split the main branches down into firstand second-level subthemes radiating from them; these are called twigs.\n",
            "...\n",
            "metadata: {'Topic 1': 'Example'}\n",
            "content: # Example  \n",
            "Example 1: Planning a Project  \n",
            "Figure 3 depicts a mind map that a working group at HQ SACT created during a preliminary brainstorming session. Afterwards, they used it to develop a checklist for planning their project.  \n",
            "Example 2: Summarizing a Document  \n",
            "The example in Figure 4, on the other hand, shows a complicated document3 expressed as a mind map. It effectively presents an overview of its contents.\n",
            "...\n"
          ]
        }
      ]
    },
    {
      "cell_type": "markdown",
      "source": [
        "## Create vector store"
      ],
      "metadata": {
        "id": "6bulPId83OwW"
      }
    },
    {
      "cell_type": "code",
      "source": [
        "# embeddings = HuggingFaceEmbeddings(model_name='all-mpnet-base-v2') # in v1 I used models from sentence transformers\n",
        "embeddings = GoogleGenerativeAIEmbeddings(model='models/text-embedding-004', google_api_key=userdata.get('google_api_key'))"
      ],
      "metadata": {
        "id": "QUjCtuzt3O7u"
      },
      "execution_count": null,
      "outputs": []
    },
    {
      "cell_type": "code",
      "source": [
        "db_dir = './vector_db_alta_v2'\n",
        "\n",
        "vector_db = Chroma.from_documents(\n",
        "    collection_name='alta_handbook',\n",
        "    documents=md_header_splits,\n",
        "    embedding=embeddings,\n",
        "    persist_directory=db_dir\n",
        ")\n",
        "# if already created\n",
        "# vector_db = Chroma(collection_name='alta_handbook', persist_directory=db_dir, embedding_function=embeddings)\n",
        "retriever = vector_db.as_retriever(search_type='similarity', search_kwargs={'k': 3})"
      ],
      "metadata": {
        "id": "_9UvjaBL35II"
      },
      "execution_count": null,
      "outputs": []
    },
    {
      "cell_type": "markdown",
      "source": [
        "Now we can test thr retrieval quality with some examples"
      ],
      "metadata": {
        "id": "jaH4fHSpAu9W"
      }
    },
    {
      "cell_type": "code",
      "source": [
        "# query = 'What does AltA mean?'\n",
        "# query = 'What are the benefits of brainstorming?'\n",
        "# query = 'How can I manage disruptive behaviour during a session?'\n",
        "# query = 'Point me to some resources to learn more about SWOT'\n",
        "query = 'What is PMI?'\n",
        "retrieved = retriever.invoke(query)\n",
        "\n",
        "for i in range(len(retrieved)):\n",
        "    print(f'Result {i+1}:\\n')\n",
        "    print(retrieved[i].page_content)\n",
        "    print('-'*100)"
      ],
      "metadata": {
        "colab": {
          "base_uri": "https://localhost:8080/"
        },
        "id": "4kwZqVBu4kqd",
        "outputId": "24c4ede4-f7dd-4752-d02a-7362cf4441d3"
      },
      "execution_count": null,
      "outputs": [
        {
          "output_type": "stream",
          "name": "stdout",
          "text": [
            "Result 1:\n",
            "\n",
            "# Further reading  \n",
            "https://www.mindtools.com/pages/article/newTED_05.htm Web page about PMI.\n",
            "https://www.stickyminds.com/article/mind-changing-exercise Web page about PMI.\n",
            "----------------------------------------------------------------------------------------------------\n",
            "Result 2:\n",
            "\n",
            "# Benefits  \n",
            "PMI:  \n",
            "allows you to look at a topic from different angles.  \n",
            "takes little time to complete, but is nevertheless very effective.\n",
            "----------------------------------------------------------------------------------------------------\n",
            "Result 3:\n",
            "\n",
            "# Plusses, Minuses, Interesting (PMI)  \n",
            "(for individual, 2–10, or more than 10 people; easy)  \n",
            "A very simple technique that weighs up the pros and cons as well as any interesting points regarding a decision by contrasting them with each other.\n",
            "----------------------------------------------------------------------------------------------------\n"
          ]
        }
      ]
    }
  ]
}